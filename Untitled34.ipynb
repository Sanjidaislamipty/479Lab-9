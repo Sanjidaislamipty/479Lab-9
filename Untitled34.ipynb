{
  "nbformat": 4,
  "nbformat_minor": 0,
  "metadata": {
    "colab": {
      "provenance": [],
      "authorship_tag": "ABX9TyNs6zNHiRRcoVlmLNcuPBZS",
      "include_colab_link": true
    },
    "kernelspec": {
      "name": "python3",
      "display_name": "Python 3"
    },
    "language_info": {
      "name": "python"
    }
  },
  "cells": [
    {
      "cell_type": "markdown",
      "metadata": {
        "id": "view-in-github",
        "colab_type": "text"
      },
      "source": [
        "<a href=\"https://colab.research.google.com/github/Sanjidaislamipty/479Lab-9/blob/main/Untitled34.ipynb\" target=\"_parent\"><img src=\"https://colab.research.google.com/assets/colab-badge.svg\" alt=\"Open In Colab\"/></a>"
      ]
    },
    {
      "cell_type": "code",
      "execution_count": 1,
      "metadata": {
        "colab": {
          "base_uri": "https://localhost:8080/"
        },
        "id": "F-euIJGuD3Ud",
        "outputId": "a0cf74de-aa55-4a09-c6fb-7f63e89940f4"
      },
      "outputs": [
        {
          "output_type": "stream",
          "name": "stdout",
          "text": [
            "Error: The file 'student_ids.txt' was not found.\n"
          ]
        }
      ],
      "source": [
        "import random\n",
        "import os\n",
        "\n",
        "def read_student_ids(filename=\"student_ids.txt\"):\n",
        "    \"\"\"Reads student IDs from a file and returns them as a list.\"\"\"\n",
        "    try:\n",
        "        with open(filename, 'r') as file:\n",
        "            student_ids = [line.strip() for line in file if line.strip()]\n",
        "        if not student_ids:\n",
        "            raise ValueError(\"The file is empty.\")\n",
        "        return student_ids\n",
        "    except FileNotFoundError:\n",
        "        print(f\"Error: The file '{filename}' was not found.\")\n",
        "        return []\n",
        "    except ValueError as e:\n",
        "        print(f\"Error: {e}\")\n",
        "        return []\n",
        "\n",
        "def select_students_for_viva(student_ids):\n",
        "    \"\"\"Randomly selects students for viva and prints each selection with a counter.\"\"\"\n",
        "    viva_count = 1\n",
        "    while student_ids:\n",
        "        selected_student = random.choice(student_ids)\n",
        "        print(f\"Viva #{viva_count}: {selected_student}\")\n",
        "        student_ids.remove(selected_student)\n",
        "        viva_count += 1\n",
        "\n",
        "def viva_process(filename=\"student_ids.txt\"):\n",
        "    \"\"\"Main function to manage the viva selection process.\"\"\"\n",
        "    student_ids = read_student_ids(filename)\n",
        "    if not student_ids:\n",
        "        return  # Exit if there was an error reading the file\n",
        "\n",
        "    while True:\n",
        "        print(\"\\nStarting new round of vivas...\")\n",
        "        select_students_for_viva(student_ids)\n",
        "\n",
        "        # Reset list after all students have been selected\n",
        "        student_ids = read_student_ids(filename)\n",
        "        if input(\"All students have been selected. Press Enter to restart or 'q' to quit: \").lower() == 'q':\n",
        "            break\n",
        "\n",
        "if __name__ == \"__main__\":\n",
        "    viva_process()\n"
      ]
    }
  ]
}